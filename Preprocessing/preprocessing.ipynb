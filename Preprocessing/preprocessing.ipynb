{
 "cells": [
  {
   "cell_type": "code",
   "execution_count": 1,
   "metadata": {},
   "outputs": [],
   "source": [
    "import pandas as pd\n",
    "import numpy as np\n",
    "from transformers import BertTokenizer\n",
    "from sklearn.model_selection import train_test_split\n",
    "import torch\n"
   ]
  },
  {
   "cell_type": "code",
   "execution_count": null,
   "metadata": {},
   "outputs": [
    {
     "data": {
      "text/html": [
       "<div>\n",
       "<style scoped>\n",
       "    .dataframe tbody tr th:only-of-type {\n",
       "        vertical-align: middle;\n",
       "    }\n",
       "\n",
       "    .dataframe tbody tr th {\n",
       "        vertical-align: top;\n",
       "    }\n",
       "\n",
       "    .dataframe thead th {\n",
       "        text-align: right;\n",
       "    }\n",
       "</style>\n",
       "<table border=\"1\" class=\"dataframe\">\n",
       "  <thead>\n",
       "    <tr style=\"text-align: right;\">\n",
       "      <th></th>\n",
       "      <th>id</th>\n",
       "      <th>reviewId</th>\n",
       "      <th>creationDate</th>\n",
       "      <th>criticName</th>\n",
       "      <th>isTopCritic</th>\n",
       "      <th>originalScore</th>\n",
       "      <th>reviewState</th>\n",
       "      <th>publicatioName</th>\n",
       "      <th>reviewText</th>\n",
       "      <th>scoreSentiment</th>\n",
       "      <th>reviewUrl</th>\n",
       "    </tr>\n",
       "  </thead>\n",
       "  <tbody>\n",
       "    <tr>\n",
       "      <th>0</th>\n",
       "      <td>beavers</td>\n",
       "      <td>1145982</td>\n",
       "      <td>2003-05-23</td>\n",
       "      <td>Ivan M. Lincoln</td>\n",
       "      <td>False</td>\n",
       "      <td>3.5/4</td>\n",
       "      <td>fresh</td>\n",
       "      <td>Deseret News (Salt Lake City)</td>\n",
       "      <td>Timed to be just long enough for most youngste...</td>\n",
       "      <td>POSITIVE</td>\n",
       "      <td>http://www.deseretnews.com/article/700003233/B...</td>\n",
       "    </tr>\n",
       "    <tr>\n",
       "      <th>1</th>\n",
       "      <td>blood_mask</td>\n",
       "      <td>1636744</td>\n",
       "      <td>2007-06-02</td>\n",
       "      <td>The Foywonder</td>\n",
       "      <td>False</td>\n",
       "      <td>1/5</td>\n",
       "      <td>rotten</td>\n",
       "      <td>Dread Central</td>\n",
       "      <td>It doesn't matter if a movie costs 300 million...</td>\n",
       "      <td>NEGATIVE</td>\n",
       "      <td>http://www.dreadcentral.com/index.php?name=Rev...</td>\n",
       "    </tr>\n",
       "    <tr>\n",
       "      <th>2</th>\n",
       "      <td>city_hunter_shinjuku_private_eyes</td>\n",
       "      <td>2590987</td>\n",
       "      <td>2019-05-28</td>\n",
       "      <td>Reuben Baron</td>\n",
       "      <td>False</td>\n",
       "      <td>NaN</td>\n",
       "      <td>fresh</td>\n",
       "      <td>CBR</td>\n",
       "      <td>The choreography is so precise and lifelike at...</td>\n",
       "      <td>POSITIVE</td>\n",
       "      <td>https://www.cbr.com/city-hunter-shinjuku-priva...</td>\n",
       "    </tr>\n",
       "    <tr>\n",
       "      <th>3</th>\n",
       "      <td>city_hunter_shinjuku_private_eyes</td>\n",
       "      <td>2558908</td>\n",
       "      <td>2019-02-14</td>\n",
       "      <td>Matt Schley</td>\n",
       "      <td>False</td>\n",
       "      <td>2.5/5</td>\n",
       "      <td>rotten</td>\n",
       "      <td>Japan Times</td>\n",
       "      <td>The film's out-of-touch attempts at humor may ...</td>\n",
       "      <td>NEGATIVE</td>\n",
       "      <td>https://www.japantimes.co.jp/culture/2019/02/0...</td>\n",
       "    </tr>\n",
       "    <tr>\n",
       "      <th>4</th>\n",
       "      <td>dangerous_men_2015</td>\n",
       "      <td>2504681</td>\n",
       "      <td>2018-08-29</td>\n",
       "      <td>Pat Padua</td>\n",
       "      <td>False</td>\n",
       "      <td>NaN</td>\n",
       "      <td>fresh</td>\n",
       "      <td>DCist</td>\n",
       "      <td>Its clumsy determination is endearing and some...</td>\n",
       "      <td>POSITIVE</td>\n",
       "      <td>http://dcist.com/2015/11/out_of_frame_dangerou...</td>\n",
       "    </tr>\n",
       "  </tbody>\n",
       "</table>\n",
       "</div>"
      ],
      "text/plain": [
       "                                  id  reviewId creationDate       criticName  \\\n",
       "0                            beavers   1145982   2003-05-23  Ivan M. Lincoln   \n",
       "1                         blood_mask   1636744   2007-06-02    The Foywonder   \n",
       "2  city_hunter_shinjuku_private_eyes   2590987   2019-05-28     Reuben Baron   \n",
       "3  city_hunter_shinjuku_private_eyes   2558908   2019-02-14      Matt Schley   \n",
       "4                 dangerous_men_2015   2504681   2018-08-29        Pat Padua   \n",
       "\n",
       "   isTopCritic originalScore reviewState                 publicatioName  \\\n",
       "0        False         3.5/4       fresh  Deseret News (Salt Lake City)   \n",
       "1        False           1/5      rotten                  Dread Central   \n",
       "2        False           NaN       fresh                            CBR   \n",
       "3        False         2.5/5      rotten                    Japan Times   \n",
       "4        False           NaN       fresh                          DCist   \n",
       "\n",
       "                                          reviewText scoreSentiment  \\\n",
       "0  Timed to be just long enough for most youngste...       POSITIVE   \n",
       "1  It doesn't matter if a movie costs 300 million...       NEGATIVE   \n",
       "2  The choreography is so precise and lifelike at...       POSITIVE   \n",
       "3  The film's out-of-touch attempts at humor may ...       NEGATIVE   \n",
       "4  Its clumsy determination is endearing and some...       POSITIVE   \n",
       "\n",
       "                                           reviewUrl  \n",
       "0  http://www.deseretnews.com/article/700003233/B...  \n",
       "1  http://www.dreadcentral.com/index.php?name=Rev...  \n",
       "2  https://www.cbr.com/city-hunter-shinjuku-priva...  \n",
       "3  https://www.japantimes.co.jp/culture/2019/02/0...  \n",
       "4  http://dcist.com/2015/11/out_of_frame_dangerou...  "
      ]
     },
     "execution_count": 2,
     "metadata": {},
     "output_type": "execute_result"
    }
   ],
   "source": [
    "data = pd.read_csv('./movie1000.csv')\n",
    "\n",
    "data.head()"
   ]
  },
  {
   "cell_type": "code",
   "execution_count": 3,
   "metadata": {},
   "outputs": [],
   "source": [
    "#select first 1000 rows from dataset\n",
    "data=data.head(1000)"
   ]
  },
  {
   "cell_type": "code",
   "execution_count": 4,
   "metadata": {},
   "outputs": [
    {
     "name": "stdout",
     "output_type": "stream",
     "text": [
      "id                  0\n",
      "reviewId            0\n",
      "creationDate        0\n",
      "criticName          0\n",
      "isTopCritic         0\n",
      "originalScore     332\n",
      "reviewState         0\n",
      "publicatioName      0\n",
      "reviewText         90\n",
      "scoreSentiment      0\n",
      "reviewUrl         128\n",
      "dtype: int64\n"
     ]
    }
   ],
   "source": [
    "print(data.isnull().sum())"
   ]
  },
  {
   "cell_type": "code",
   "execution_count": 5,
   "metadata": {},
   "outputs": [
    {
     "name": "stdout",
     "output_type": "stream",
     "text": [
      "id                  0\n",
      "reviewId            0\n",
      "creationDate        0\n",
      "criticName          0\n",
      "isTopCritic         0\n",
      "originalScore     332\n",
      "reviewState         0\n",
      "publicatioName      0\n",
      "reviewText         90\n",
      "scoreSentiment      0\n",
      "reviewUrl         128\n",
      "dtype: int64\n"
     ]
    }
   ],
   "source": [
    "relevantData = data[['reviewText','scoreSentiment']]\n",
    "relevantData = relevantData.dropna(subset=['reviewText', 'scoreSentiment'])\n",
    "print(data.isnull().sum())"
   ]
  },
  {
   "cell_type": "code",
   "execution_count": 6,
   "metadata": {},
   "outputs": [],
   "source": [
    "# Encode sentiment labels\n",
    "sentiment_mapping = {'POSITIVE': 0, 'NEGATIVE': 1, 'NEUTRAL': 2}\n",
    "relevantData['scoreSentiment'] = relevantData['scoreSentiment'].map(sentiment_mapping)\n"
   ]
  },
  {
   "cell_type": "code",
   "execution_count": 7,
   "metadata": {},
   "outputs": [],
   "source": [
    "# Initialize tokenizer\n",
    "tokenizer = BertTokenizer.from_pretrained('bert-base-uncased')\n"
   ]
  },
  {
   "cell_type": "code",
   "execution_count": 8,
   "metadata": {},
   "outputs": [],
   "source": [
    "# Compute token lengths for each review\n",
    "relevantData['token_lengths'] = relevantData['reviewText'].apply(lambda x: len(tokenizer.tokenize(x)))"
   ]
  },
  {
   "cell_type": "code",
   "execution_count": 9,
   "metadata": {},
   "outputs": [
    {
     "name": "stdout",
     "output_type": "stream",
     "text": [
      "count    910.000000\n",
      "mean      29.604396\n",
      "std       13.073608\n",
      "min        2.000000\n",
      "25%       20.000000\n",
      "50%       29.000000\n",
      "75%       38.000000\n",
      "max       98.000000\n",
      "Name: token_lengths, dtype: float64\n"
     ]
    }
   ],
   "source": [
    "#summary statistics\n",
    "print(relevantData['token_lengths'].describe())"
   ]
  },
  {
   "cell_type": "code",
   "execution_count": 10,
   "metadata": {},
   "outputs": [
    {
     "name": "stdout",
     "output_type": "stream",
     "text": [
      "0.90    47.0\n",
      "0.95    52.0\n",
      "Name: token_lengths, dtype: float64\n"
     ]
    }
   ],
   "source": [
    "# Percentiles (90th, 95th)\n",
    "print(relevantData['token_lengths'].quantile([0.9, 0.95]))"
   ]
  },
  {
   "cell_type": "code",
   "execution_count": 11,
   "metadata": {},
   "outputs": [
    {
     "data": {
      "image/png": "[encoded data removed]",
      "text/plain": [
       "<Figure size 640x480 with 1 Axes>"
      ]
     },
     "metadata": {},
     "output_type": "display_data"
    }
   ],
   "source": [
    "import matplotlib.pyplot as plt\n",
    "\n",
    "plt.hist(relevantData['token_lengths'], bins=30, alpha=0.7, color='blue')\n",
    "plt.xlabel('Number of Tokens')\n",
    "plt.ylabel('Frequency')\n",
    "plt.title('Token Length Distribution')\n",
    "plt.show()\n"
   ]
  },
  {
   "cell_type": "markdown",
   "metadata": {},
   "source": [
    "The analysis indicates that our tokenized reviews have the following characteristics:\n",
    "\n",
    "Count: 910 reviews (after filtering or sampling).\n",
    "Mean: On average, each review has ~30 tokens.\n",
    "Median (50%): Half of the reviews are shorter than 29 tokens.\n",
    "90th Percentile: 90% of reviews are shorter than 47 tokens.\n",
    "95th Percentile: 95% of reviews are shorter than 52 tokens.\n",
    "Max: The longest review has 98 tokens.\n",
    "\n",
    "\n",
    "Given this distribution:\n",
    "\n",
    "47 (90th percentile): Minimal truncation but efficient for most reviews.\n",
    "52 (95th percentile): Covers 95% of the reviews while keeping the memory usage manageable.\n",
    "98 (max): Ensures no truncation but results in significant padding for shorter reviews.\n",
    "For most tasks:\n",
    "\n",
    "We can start with max_length = 52 (covers 95% of the data with minimal information loss).\n",
    "If computational efficiency is critical, max_length = 47 is also a good option."
   ]
  },
  {
   "cell_type": "code",
   "execution_count": 12,
   "metadata": {},
   "outputs": [],
   "source": [
    "#define function tekonizer for BERT model\n",
    "import torch\n",
    "def tokenize_function(text, tokenizer, max_length=52):\n",
    "    tokens = tokenizer(\n",
    "        text,\n",
    "        max_length=max_length,\n",
    "        truncation=True,\n",
    "        padding='max_length',  # Pad to max_length\n",
    "        return_tensors=\"pt\"    # Return as PyTorch tensors\n",
    "    )\n",
    "    return tokens['input_ids'], tokens['attention_mask']"
   ]
  },
  {
   "cell_type": "code",
   "execution_count": 13,
   "metadata": {},
   "outputs": [],
   "source": [
    "import torch\n",
    "max_length = 52  # Adjust based on dataset\n",
    "relevantData['input_ids'], relevantData['attention_mask'] = zip(*relevantData['reviewText'].apply(\n",
    "    lambda x: tokenize_function(x, tokenizer, max_length)\n",
    "))"
   ]
  },
  {
   "cell_type": "code",
   "execution_count": 14,
   "metadata": {},
   "outputs": [
    {
     "data": {
      "text/html": [
       "<div>\n",
       "<style scoped>\n",
       "    .dataframe tbody tr th:only-of-type {\n",
       "        vertical-align: middle;\n",
       "    }\n",
       "\n",
       "    .dataframe tbody tr th {\n",
       "        vertical-align: top;\n",
       "    }\n",
       "\n",
       "    .dataframe thead th {\n",
       "        text-align: right;\n",
       "    }\n",
       "</style>\n",
       "<table border=\"1\" class=\"dataframe\">\n",
       "  <thead>\n",
       "    <tr style=\"text-align: right;\">\n",
       "      <th></th>\n",
       "      <th>reviewText</th>\n",
       "      <th>scoreSentiment</th>\n",
       "      <th>token_lengths</th>\n",
       "      <th>input_ids</th>\n",
       "      <th>attention_mask</th>\n",
       "    </tr>\n",
       "  </thead>\n",
       "  <tbody>\n",
       "    <tr>\n",
       "      <th>0</th>\n",
       "      <td>Timed to be just long enough for most youngste...</td>\n",
       "      <td>0</td>\n",
       "      <td>35</td>\n",
       "      <td>[[tensor(101), tensor(22313), tensor(2000), te...</td>\n",
       "      <td>[[tensor(1), tensor(1), tensor(1), tensor(1), ...</td>\n",
       "    </tr>\n",
       "    <tr>\n",
       "      <th>1</th>\n",
       "      <td>It doesn't matter if a movie costs 300 million...</td>\n",
       "      <td>1</td>\n",
       "      <td>41</td>\n",
       "      <td>[[tensor(101), tensor(2009), tensor(2987), ten...</td>\n",
       "      <td>[[tensor(1), tensor(1), tensor(1), tensor(1), ...</td>\n",
       "    </tr>\n",
       "    <tr>\n",
       "      <th>2</th>\n",
       "      <td>The choreography is so precise and lifelike at...</td>\n",
       "      <td>0</td>\n",
       "      <td>54</td>\n",
       "      <td>[[tensor(101), tensor(1996), tensor(16967), te...</td>\n",
       "      <td>[[tensor(1), tensor(1), tensor(1), tensor(1), ...</td>\n",
       "    </tr>\n",
       "    <tr>\n",
       "      <th>3</th>\n",
       "      <td>The film's out-of-touch attempts at humor may ...</td>\n",
       "      <td>1</td>\n",
       "      <td>29</td>\n",
       "      <td>[[tensor(101), tensor(1996), tensor(2143), ten...</td>\n",
       "      <td>[[tensor(1), tensor(1), tensor(1), tensor(1), ...</td>\n",
       "    </tr>\n",
       "    <tr>\n",
       "      <th>4</th>\n",
       "      <td>Its clumsy determination is endearing and some...</td>\n",
       "      <td>0</td>\n",
       "      <td>10</td>\n",
       "      <td>[[tensor(101), tensor(2049), tensor(22902), te...</td>\n",
       "      <td>[[tensor(1), tensor(1), tensor(1), tensor(1), ...</td>\n",
       "    </tr>\n",
       "  </tbody>\n",
       "</table>\n",
       "</div>"
      ],
      "text/plain": [
       "                                          reviewText  scoreSentiment  \\\n",
       "0  Timed to be just long enough for most youngste...               0   \n",
       "1  It doesn't matter if a movie costs 300 million...               1   \n",
       "2  The choreography is so precise and lifelike at...               0   \n",
       "3  The film's out-of-touch attempts at humor may ...               1   \n",
       "4  Its clumsy determination is endearing and some...               0   \n",
       "\n",
       "   token_lengths                                          input_ids  \\\n",
       "0             35  [[tensor(101), tensor(22313), tensor(2000), te...   \n",
       "1             41  [[tensor(101), tensor(2009), tensor(2987), ten...   \n",
       "2             54  [[tensor(101), tensor(1996), tensor(16967), te...   \n",
       "3             29  [[tensor(101), tensor(1996), tensor(2143), ten...   \n",
       "4             10  [[tensor(101), tensor(2049), tensor(22902), te...   \n",
       "\n",
       "                                      attention_mask  \n",
       "0  [[tensor(1), tensor(1), tensor(1), tensor(1), ...  \n",
       "1  [[tensor(1), tensor(1), tensor(1), tensor(1), ...  \n",
       "2  [[tensor(1), tensor(1), tensor(1), tensor(1), ...  \n",
       "3  [[tensor(1), tensor(1), tensor(1), tensor(1), ...  \n",
       "4  [[tensor(1), tensor(1), tensor(1), tensor(1), ...  "
      ]
     },
     "execution_count": 14,
     "metadata": {},
     "output_type": "execute_result"
    }
   ],
   "source": [
    "relevantData.head()"
   ]
  },
  {
   "cell_type": "code",
   "execution_count": 27,
   "metadata": {},
   "outputs": [],
   "source": [
    "# First, split into training + test and validation sets (80% train + 20% validation/test)\n",
    "train_val_texts, test_texts, train_val_labels, test_labels = train_test_split(\n",
    "    relevantData[['input_ids', 'attention_mask']].values,\n",
    "    relevantData['scoreSentiment'].values,\n",
    "    test_size=0.2,  # 80% for train + validation, 20% for test\n",
    "    stratify=relevantData['scoreSentiment'],\n",
    "    random_state=42\n",
    ")\n",
    "\n",
    "# Then, split the training+validation set into separate training and validation sets (80% train, 20% validation)\n",
    "train_texts, val_texts, train_labels, val_labels = train_test_split(\n",
    "    train_val_texts,\n",
    "    train_val_labels,\n",
    "    test_size=0.2,  # 80% for train, 20% for validation\n",
    "    stratify=train_val_labels,\n",
    "    random_state=42\n",
    ")\n"
   ]
  },
  {
   "cell_type": "code",
   "execution_count": 30,
   "metadata": {},
   "outputs": [],
   "source": [
    "# Ensure that train_texts, val_texts, and test_texts are tensors or NumPy arrays\n",
    "train_inputs = torch.stack([item[0] for item in train_texts], dim=0).long()  # stack tensors to create a single tensor\n",
    "train_masks = torch.stack([item[1] for item in train_texts], dim=0).long()   # stack attention_masks\n",
    "train_labels = torch.tensor(train_labels, dtype=torch.long)\n",
    "\n",
    "val_inputs = torch.stack([item[0] for item in val_texts], dim=0).long()\n",
    "val_masks = torch.stack([item[1] for item in val_texts], dim=0).long()\n",
    "val_labels = torch.tensor(val_labels, dtype=torch.long)\n",
    "\n",
    "test_inputs = torch.stack([item[0] for item in test_texts], dim=0).long()\n",
    "test_masks = torch.stack([item[1] for item in test_texts], dim=0).long()\n",
    "test_labels = torch.tensor(test_labels, dtype=torch.long)\n",
    "\n",
    "# Create DataLoader objects\n",
    "batch_size = 16\n",
    "train_data = TensorDataset(train_inputs, train_masks, train_labels)\n",
    "train_dataloader = DataLoader(train_data, batch_size=batch_size, shuffle=True)\n",
    "\n",
    "val_data = TensorDataset(val_inputs, val_masks, val_labels)\n",
    "val_dataloader = DataLoader(val_data, batch_size=batch_size)\n",
    "\n",
    "test_data = TensorDataset(test_inputs, test_masks, test_labels)\n",
    "test_dataloader = DataLoader(test_data, batch_size=batch_size)\n",
    "\n",
    "# Save the datasets (train, validation, and test)\n",
    "torch.save(train_data, 'train_data.pt')\n",
    "torch.save(val_data, 'val_data.pt')\n",
    "torch.save(test_data, 'test_data.pt')\n"
   ]
  }
 ],
 "metadata": {
  "kernelspec": {
   "display_name": "base",
   "language": "python",
   "name": "python3"
  },
  "language_info": {
   "codemirror_mode": {
    "name": "ipython",
    "version": 3
   },
   "file_extension": ".py",
   "mimetype": "text/x-python",
   "name": "python",
   "nbconvert_exporter": "python",
   "pygments_lexer": "ipython3",
   "version": "3.12.4"
  }
 },
 "nbformat": 4,
 "nbformat_minor": 2
}
